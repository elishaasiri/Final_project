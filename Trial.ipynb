{
  "nbformat": 4,
  "nbformat_minor": 0,
  "metadata": {
    "colab": {
      "provenance": []
    },
    "kernelspec": {
      "name": "python3",
      "display_name": "Python 3"
    },
    "language_info": {
      "name": "python"
    }
  },
  "cells": [
    {
      "cell_type": "code",
      "execution_count": 1,
      "metadata": {
        "colab": {
          "base_uri": "https://localhost:8080/"
        },
        "id": "oFCc9fZlSvOu",
        "outputId": "1ef0f733-1d2f-4c60-8730-09ab3dc5fe6e"
      },
      "outputs": [
        {
          "output_type": "stream",
          "name": "stdout",
          "text": [
            "i am learning the use of Github\n"
          ]
        }
      ],
      "source": [
        "a = ('i am learning the use of Github')\n",
        "print(a)"
      ]
    }
  ]
}